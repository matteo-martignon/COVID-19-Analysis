{
 "cells": [
  {
   "cell_type": "code",
   "execution_count": 1,
   "metadata": {},
   "outputs": [],
   "source": [
    "import pandas as pd\n",
    "import matplotlib.pyplot as plt\n",
    "%matplotlib inline\n",
    "plt.rcParams['figure.figsize'] = (12,10)"
   ]
  },
  {
   "cell_type": "markdown",
   "metadata": {},
   "source": [
    "# Descrizione dataset\n",
    "\n",
    "Nella cartella dati si possono trovare 6 tabelle in formato json e csv:\n",
    "\n",
    "\n",
    "*   **consegne-vaccini-latest**: dati sul totale delle consegne giornaliere dei vaccini suddivise per regioni.\n",
    "*   **vaccini-summary-latest**: dati sul totale delle consegne e somministrazioni avvenute sino ad oggi, includendo la percentuale di dosi somministrate (sul totale delle dosi consegnate) suddivise per regioni.\n",
    "*   **somministrazioni-vaccini-latest**: dati sulle somministrazioni giornaliere dei vaccini suddivisi per regioni, fasce d'età e categorie di appartenenza dei soggetti vaccinati.\n",
    "*   **somministrazioni-vaccini-summary-latest**: dati sul totale delle somministrazioni giornaliere per regioni e categorie di appartenenza dei soggetti vaccinati.\n",
    "*   **punti-somministrazione-latest**: punti di somministrazione per ciascuna Regione e Provincia Autonoma.\n",
    "*   **anagrafica-vaccini-summary-latest**: totali delle somministrazioni per fasce d'età.\n",
    "*   **last-update-dataset**: data e ora di ultimo aggiornamento del dataset."
   ]
  },
  {
   "cell_type": "markdown",
   "metadata": {},
   "source": [
    "**consegne-vaccini-latest**\n",
    "\n",
    "| Campo | Tipo di dati | Descrizione |\n",
    "| --- | --- | --- |\n",
    "| index | integer | Codice identificativo del record. |\n",
    "| area | string | Sigla della regione di consegna. |\n",
    "| fornitore | string | Nome completo del fornitore del vaccino. |\n",
    "| data_consegna | datetime | Il giorno in cui è avvenuta la consegna. |\n",
    "| numero_dosi | integer | Il numero di dosi del vaccino consegnate in quel giorno per regione. |\n",
    "| codice_NUTS1 | string | Classificazione europea delle unità territoriali NUTS: livello NUTS 1. |\n",
    "| codice_NUTS2 | string | Classificazione europea delle unità territoriali NUTS: livello NUTS 2. |\n",
    "| codice_regione_ISTAT | integer | Codice ISTAT della Regione. |\n",
    "| nome_regione | string | Denominazione standard dell'area (dove necessario denominazione bilingue). |"
   ]
  },
  {
   "cell_type": "code",
   "execution_count": 2,
   "metadata": {},
   "outputs": [],
   "source": [
    "df_consegne = pd.read_csv('https://raw.githubusercontent.com/italia/covid19-opendata-vaccini/master/dati/consegne-vaccini-latest.csv')"
   ]
  },
  {
   "cell_type": "markdown",
   "metadata": {},
   "source": [
    "**vaccini-summary-latest**\n",
    "\n",
    "| Campo | Tipo di dati | Descrizione |\n",
    "| --- | --- | --- |\n",
    "| index | integer | Codice identificativo del record. |\n",
    "| area | string | Sigla della regione di consegna. |\n",
    "| ultimo_aggiornamento | datetime | Giorno dell’ultimo aggiornamento del totale. |\n",
    "| dosi_consegnate | integer | Numero totale di dosi di vaccino consegnate per regione. |\n",
    "| dosi_somministrate | integer | Numero totale di dosi di vaccino somministrate per regione. |\n",
    "| percentuale_somministrazione | number | Percentuale di dosi somministrate sulle dosi consegnate. |\n",
    "| codice_NUTS1 | string | Classificazione europea delle unità territoriali NUTS: livello NUTS 1. |\n",
    "| codice_NUTS2 | string | Classificazione europea delle unità territoriali NUTS: livello NUTS 2. |\n",
    "| codice_regione_ISTAT | integer | Codice ISTAT della Regione. |\n",
    "| nome_regione | string | Denominazione standard dell'area (dove necessario denominazione bilingue). |\n"
   ]
  },
  {
   "cell_type": "code",
   "execution_count": 3,
   "metadata": {},
   "outputs": [],
   "source": [
    "df_vaccini_aree_summary = pd.read_csv('https://raw.githubusercontent.com/italia/covid19-opendata-vaccini/master/dati/vaccini-summary-latest.csv')"
   ]
  },
  {
   "cell_type": "markdown",
   "metadata": {},
   "source": [
    "**somministrazioni-vaccini-latest**\n",
    "\n",
    "| Campo | Tipo di dati | Descrizione |\n",
    "| --- | --- | --- |\n",
    "| index | integer | Codice identificativo del record. |\n",
    "| area | string | Sigla della regione di consegna. |\n",
    "| fornitore | string | nome completo del fornitore del vaccino. |\n",
    "| data_somministrazione | datetime | Data di somministrazione. |\n",
    "| fascia_anagrafica | string | Identifica la fascia anagrafiche in cui appartengono i soggetti a cui è stato somministrato il vaccino. |\n",
    "| sesso_maschile | integer | Totale dei soggetti di sesso maschile a cui è stato somministrato il vaccino per giorno, regione e fascia d’età. |\n",
    "| sesso_femminile | integer | Totale dei soggetti di sesso femminile a cui è stato somministrato il vaccino per giorno, regione e fascia d’età. |\n",
    "| categoria_over80 | integer | Numero somministrazioni effettuate ai soggetti con età anagrafica maggiore o uguale a 80 anni, non appartenenti ad altre categorie prioritarie ma ricevono la somministrazione esclusivamente sul criterio dell'età anagrafica, indicate per giorno, regione. |\n",
    "| categoria_soggetti_fragili | integer | Numero di somministrazioni effettuate ai soggetti fragili e loro caregiver indicate per giorno, regione e fascia d'età. |\n",
    "| categoria_operatori_sanitari_sociosanitari | integer | Numero di somministrazioni effettuate agli operatori sanitari e sociosanitari indicate per giorno, regione e fascia d'età. |\n",
    "| categoria_personale_non_sanitario | integer | Numero di somministrazioni effettuate al personale non sanitario impiegato in strutture sanitarie e in attività lavorativa a rischio indicate per giorno, regione e fascia d'età. |\n",
    "| categoria_ospiti_rsa | integer | Numero di somministrazioni effettuate ai soggetti ospiti di comunità residenziali indicate per giorno, regione e fascia d'età. |\n",
    "| categoria_70_79 | integer | Numero somministrazioni effettuate ai soggetti con età anagrafica compresa tra 70 e 79 anni, non appartenenti ad altre categorie prioritarie ma ricevono la somministrazione esclusivamente sul criterio dell'età anagrafica, indicate per giorno, regione. |\n",
    "| categoria_60_69 | integer | Numero somministrazioni effettuate ai soggetti con età anagrafica compresa tra 60 e 69 anni, non appartenenti ad altre categorie prioritarie ma ricevono la somministrazione esclusivamente sul criterio dell'età anagrafica, indicate per giorno, regione. |\n",
    "| categoria_personale_scolastico | integer | Numero di somministrazioni effettuate al personale scolastico indicate per giorno, regione e fascia d'età. |\n",
    "| categoria_forze_armate | integer | Numero di somministrazioni effettuate al personale del comparto difesa e sicurezza indicate per giorno, regione e fascia d'età. |\n",
    "| categoria_altro | integer | Numero di somministrazioni effettuate ai soggetti non riconducibili alle precedenti categorie indicate per giorno, regione e fascia d'età. |\n",
    "| prima_dose | integer | Numero prime somministrazioni. |\n",
    "| seconda_dose | integer | Numero seconde somministrazioni. |\n",
    "| codice_NUTS1 | string | Classificazione europea delle unità territoriali NUTS: livello NUTS 1. |\n",
    "| codice_NUTS2 | string | Classificazione europea delle unità territoriali NUTS: livello NUTS 2. |\n",
    "| codice_regione_ISTAT | integer | Codice ISTAT della Regione. |\n",
    "| nome_regione | string | Denominazione standard dell'area (dove necessario denominazione bilingue). |"
   ]
  },
  {
   "cell_type": "code",
   "execution_count": 4,
   "metadata": {},
   "outputs": [],
   "source": [
    "df_somministrazioni = pd.read_csv('https://raw.githubusercontent.com/italia/covid19-opendata-vaccini/master/dati/somministrazioni-vaccini-latest.csv')"
   ]
  },
  {
   "cell_type": "markdown",
   "metadata": {},
   "source": [
    "**somministrazioni-vaccini-summary-latest**\n",
    "\n",
    "| Campo | Tipo di dati | Descrizione |\n",
    "| --- | --- | --- |\n",
    "| index | integer | Codice identificativo del record. |\n",
    "| area | string | Sigla della regione in cui è avvenuta la somministrazione. |\n",
    "| data_somministrazione | datetime | Giorno in cui è avvenuta la somministrazione. |\n",
    "| totale | integer | Numero totale di dosi di vaccino somministrate per giorno e regione. |\n",
    "| sesso_maschile | integer | Totale dei soggetti di sesso maschile a cui è stato somministrato il vaccino per giorno e regione. |\n",
    "| sesso_femminile | integer | Totale dei soggetti di sesso femminile a cui è stato somministrato il vaccino per giorno e regione. |\n",
    "| categoria_over80 | integer | Numero somministrazioni effettuate ai soggetti con età anagrafica maggiore o uguale a 80 anni, non appartenenti ad altre categorie prioritarie ma ricevono la somministrazione esclusivamente sul criterio dell'età anagrafica, indicate per giorno, regione. |\n",
    "| categoria_soggetti_fragili | integer | Numero di somministrazioni effettuate ai soggetti fragili e loro caregiver indicate per giorno, regione e fascia d'età. |\n",
    "| categoria_operatori_sanitari_sociosanitari | integer | Numero di somministrazioni effettuate agli operatori sanitari e sociosanitari indicate per giorno, regione e fascia d'età. |\n",
    "| categoria_personale_non_sanitario | integer | Numero di somministrazioni effettuate al personale non sanitario impiegato in strutture sanitarie e in attività lavorativa a rischio indicate per giorno, regione e fascia d'età. |\n",
    "| categoria_ospiti_rsa | integer | Numero di somministrazioni effettuate ai soggetti ospiti di comunità residenziali indicate per giorno, regione e fascia d'età. |\n",
    "| categoria_70_79 | integer | Numero somministrazioni effettuate ai soggetti con età anagrafica compresa tra 70 e 79 anni, non appartenenti ad altre categorie prioritarie ma ricevono la somministrazione esclusivamente sul criterio dell'età anagrafica, indicate per giorno, regione. |\n",
    "| categoria_60_69 | integer | Numero somministrazioni effettuate ai soggetti con età anagrafica compresa tra 60 e 69 anni, non appartenenti ad altre categorie prioritarie ma ricevono la somministrazione esclusivamente sul criterio dell'età anagrafica, indicate per giorno, regione. |\n",
    "| categoria_personale_scolastico | integer | Numero di somministrazioni effettuate al personale scolastico indicate per giorno, regione e fascia d'età. |\n",
    "| categoria_forze_armate | integer | Numero di somministrazioni effettuate al personale del comparto difesa e sicurezza indicate per giorno, regione e fascia d'età. |\n",
    "| categoria_altro | integer | Numero di somministrazioni effettuate ai soggetti non riconducibili alle precedenti categorie indicate per giorno, regione e fascia d'età. |\n",
    "| prima_dose | integer | Numero prime somministrazioni. |\n",
    "| seconda_dose | integer | Numero seconde somministrazioni. |\n",
    "| codice_NUTS1 | string | Classificazione europea delle unità territoriali NUTS: livello NUTS 1. |\n",
    "| codice_NUTS2 | string | Classificazione europea delle unità territoriali NUTS: livello NUTS 2. |\n",
    "| codice_regione_ISTAT | integer | Codice ISTAT della Regione. |\n",
    "| nome_regione | string | Denominazione standard dell'area (dove necessario denominazione bilingue). |"
   ]
  },
  {
   "cell_type": "code",
   "execution_count": null,
   "metadata": {},
   "outputs": [],
   "source": []
  },
  {
   "cell_type": "code",
   "execution_count": null,
   "metadata": {},
   "outputs": [],
   "source": []
  },
  {
   "cell_type": "code",
   "execution_count": null,
   "metadata": {},
   "outputs": [],
   "source": []
  },
  {
   "cell_type": "markdown",
   "metadata": {},
   "source": [
    "**anagrafica-vaccini-summary-latest**\n",
    "\n",
    "| Campo | Tipo di dati | Descrizione |\n",
    "| --- | --- | --- |\n",
    "| fascia_anagrafica | string | Fascia anagrafica. |\n",
    "| totale | integer | Totale vaccini somministrati. |\n",
    "| sesso_maschile | integer | Totale dei soggetti di sesso maschile a cui è stato somministrato il vaccino per giorno, regione e fascia d’età. |\n",
    "| sesso_femminile | integer | Totale dei soggetti di sesso femminile a cui è stato somministrato il vaccino per giorno, regione e fascia d’età. |\n",
    "| categoria_over80 | integer | Numero somministrazioni effettuate ai soggetti con età anagrafica maggiore o uguale a 80 anni, non appartenenti ad altre categorie prioritarie ma ricevono la somministrazione esclusivamente sul criterio dell'età anagrafica, indicate per giorno, regione. |\n",
    "| categoria_soggetti_fragili | integer | Numero di somministrazioni effettuate ai soggetti fragili e loro caregiver indicate per giorno, regione e fascia d'età. |\n",
    "| categoria_operatori_sanitari_sociosanitari | integer | Numero di somministrazioni effettuate agli operatori sanitari e sociosanitari indicate per giorno, regione e fascia d'età. |\n",
    "| categoria_personale_non_sanitario | integer | Numero di somministrazioni effettuate al personale non sanitario impiegato in strutture sanitarie e in attività lavorativa a rischio indicate per giorno, regione e fascia d'età. |\n",
    "| categoria_ospiti_rsa | integer | Numero di somministrazioni effettuate ai soggetti ospiti di comunità residenziali indicate per giorno, regione e fascia d'età. |\n",
    "| categoria_70_79 | integer | Numero somministrazioni effettuate ai soggetti con età anagrafica compresa tra 70 e 79 anni, non appartenenti ad altre categorie prioritarie ma ricevono la somministrazione esclusivamente sul criterio dell'età anagrafica, indicate per giorno, regione. |\n",
    "| categoria_60_69 | integer | Numero somministrazioni effettuate ai soggetti con età anagrafica compresa tra 60 e 69 anni, non appartenenti ad altre categorie prioritarie ma ricevono la somministrazione esclusivamente sul criterio dell'età anagrafica, indicate per giorno, regione. |\n",
    "| categoria_personale_scolastico | integer | Numero di somministrazioni effettuate al personale scolastico indicate per giorno, regione e fascia d'età. |\n",
    "| categoria_forze_armate | integer | Numero di somministrazioni effettuate al personale del comparto difesa e sicurezza indicate per giorno, regione e fascia d'età. |\n",
    "| categoria_altro | integer | Numero di somministrazioni effettuate ai soggetti non riconducibili alle precedenti categorie indicate per giorno, regione e fascia d'età. |\n",
    "| prima_dose | integer | Numero prime somministrazioni. |\n",
    "| seconda_dose | integer | Numero seconde somministrazioni. |"
   ]
  },
  {
   "cell_type": "code",
   "execution_count": 5,
   "metadata": {},
   "outputs": [],
   "source": [
    "df_vaccini_fasce_summary = pd.read_csv('https://raw.githubusercontent.com/italia/covid19-opendata-vaccini/master/dati/anagrafica-vaccini-summary-latest.csv')"
   ]
  },
  {
   "cell_type": "code",
   "execution_count": null,
   "metadata": {},
   "outputs": [],
   "source": []
  }
 ],
 "metadata": {
  "kernelspec": {
   "display_name": "Python 3",
   "language": "python",
   "name": "python3"
  },
  "language_info": {
   "codemirror_mode": {
    "name": "ipython",
    "version": 3
   },
   "file_extension": ".py",
   "mimetype": "text/x-python",
   "name": "python",
   "nbconvert_exporter": "python",
   "pygments_lexer": "ipython3",
   "version": "3.8.5"
  }
 },
 "nbformat": 4,
 "nbformat_minor": 4
}
