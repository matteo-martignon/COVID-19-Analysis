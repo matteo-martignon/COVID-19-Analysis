{
 "cells": [
  {
   "cell_type": "markdown",
   "metadata": {},
   "source": [
    "# Table of Content\n",
    "* [1.Descrizione dataset](#1.Descrizione-dataset)\n",
    "* [2.Import librerie e dati](#2.Import-librerie-e-dati)\n",
    "* [3.Analisi esplorativa dei dati](#3.Analisi-esplorativa-dei-dati)\n",
    "    * [3.1.Consegne](#3.1.Consegne)"
   ]
  },
  {
   "cell_type": "markdown",
   "metadata": {},
   "source": [
    "## 1.Descrizione dataset\n",
    "\n",
    "Il seguente dataset è riferito ai dati ufficiali del governo italiano, disponibili su https://github.com/italia/covid19-opendata-vaccini\n",
    "\n",
    "Nella cartella dati si possono trovare 6 tabelle in formato json e csv:\n",
    "\n",
    "\n",
    "*   **consegne-vaccini-latest**: dati sul totale delle consegne giornaliere dei vaccini suddivise per regioni.\n",
    "| Campo | Tipo di dati | Descrizione |\n",
    "| --- | --- | --- |\n",
    "| index | integer | Codice identificativo del record. |\n",
    "| area | string | Sigla della regione di consegna. |\n",
    "| fornitore | string | Nome completo del fornitore del vaccino. |\n",
    "| data_consegna | datetime | Il giorno in cui è avvenuta la consegna. |\n",
    "| numero_dosi | integer | Il numero di dosi del vaccino consegnate in quel giorno per regione. |\n",
    "| codice_NUTS1 | string | Classificazione europea delle unità territoriali NUTS: livello NUTS 1. |\n",
    "| codice_NUTS2 | string | Classificazione europea delle unità territoriali NUTS: livello NUTS 2. |\n",
    "| codice_regione_ISTAT | integer | Codice ISTAT della Regione. |\n",
    "| nome_regione | string | Denominazione standard dell'area (dove necessario denominazione bilingue). |\n",
    "\n",
    "\n",
    "*   **vaccini-summary-latest**: dati sul totale delle consegne e somministrazioni avvenute sino ad oggi, includendo la percentuale di dosi somministrate (sul totale delle dosi consegnate) suddivise per regioni.\n",
    "\n",
    "| Campo | Tipo di dati | Descrizione |\n",
    "| --- | --- | --- |\n",
    "| index | integer | Codice identificativo del record. |\n",
    "| area | string | Sigla della regione di consegna. |\n",
    "| ultimo_aggiornamento | datetime | Giorno dell’ultimo aggiornamento del totale. |\n",
    "| dosi_consegnate | integer | Numero totale di dosi di vaccino consegnate per regione. |\n",
    "| dosi_somministrate | integer | Numero totale di dosi di vaccino somministrate per regione. |\n",
    "| percentuale_somministrazione | number | Percentuale di dosi somministrate sulle dosi consegnate. |\n",
    "| codice_NUTS1 | string | Classificazione europea delle unità territoriali NUTS: livello NUTS 1. |\n",
    "| codice_NUTS2 | string | Classificazione europea delle unità territoriali NUTS: livello NUTS 2. |\n",
    "| codice_regione_ISTAT | integer | Codice ISTAT della Regione. |\n",
    "| nome_regione | string | Denominazione standard dell'area (dove necessario denominazione bilingue). |\n",
    "\n",
    "\n",
    "*   **somministrazioni-vaccini-latest**: dati sulle somministrazioni giornaliere dei vaccini suddivisi per regioni, fasce d'età e categorie di appartenenza dei soggetti vaccinati.\n",
    "\n",
    "| Campo | Tipo di dati | Descrizione |\n",
    "| --- | --- | --- |\n",
    "| index | integer | Codice identificativo del record. |\n",
    "| area | string | Sigla della regione di consegna. |\n",
    "| fornitore | string | nome completo del fornitore del vaccino. |\n",
    "| data_somministrazione | datetime | Data di somministrazione. |\n",
    "| fascia_anagrafica | string | Identifica la fascia anagrafiche in cui appartengono i soggetti a cui è stato somministrato il vaccino. |\n",
    "| sesso_maschile | integer | Totale dei soggetti di sesso maschile a cui è stato somministrato il vaccino per giorno, regione e fascia d’età. |\n",
    "| sesso_femminile | integer | Totale dei soggetti di sesso femminile a cui è stato somministrato il vaccino per giorno, regione e fascia d’età. |\n",
    "| categoria_over80 | integer | Numero somministrazioni effettuate ai soggetti con età anagrafica maggiore o uguale a 80 anni, non appartenenti ad altre categorie prioritarie ma ricevono la somministrazione esclusivamente sul criterio dell'età anagrafica, indicate per giorno, regione. |\n",
    "| categoria_soggetti_fragili | integer | Numero di somministrazioni effettuate ai soggetti fragili e loro caregiver indicate per giorno, regione e fascia d'età. |\n",
    "| categoria_operatori_sanitari_sociosanitari | integer | Numero di somministrazioni effettuate agli operatori sanitari e sociosanitari indicate per giorno, regione e fascia d'età. |\n",
    "| categoria_personale_non_sanitario | integer | Numero di somministrazioni effettuate al personale non sanitario impiegato in strutture sanitarie e in attività lavorativa a rischio indicate per giorno, regione e fascia d'età. |\n",
    "| categoria_ospiti_rsa | integer | Numero di somministrazioni effettuate ai soggetti ospiti di comunità residenziali indicate per giorno, regione e fascia d'età. |\n",
    "| categoria_70_79 | integer | Numero somministrazioni effettuate ai soggetti con età anagrafica compresa tra 70 e 79 anni, non appartenenti ad altre categorie prioritarie ma ricevono la somministrazione esclusivamente sul criterio dell'età anagrafica, indicate per giorno, regione. |\n",
    "| categoria_60_69 | integer | Numero somministrazioni effettuate ai soggetti con età anagrafica compresa tra 60 e 69 anni, non appartenenti ad altre categorie prioritarie ma ricevono la somministrazione esclusivamente sul criterio dell'età anagrafica, indicate per giorno, regione. |\n",
    "| categoria_personale_scolastico | integer | Numero di somministrazioni effettuate al personale scolastico indicate per giorno, regione e fascia d'età. |\n",
    "| categoria_forze_armate | integer | Numero di somministrazioni effettuate al personale del comparto difesa e sicurezza indicate per giorno, regione e fascia d'età. |\n",
    "| categoria_altro | integer | Numero di somministrazioni effettuate ai soggetti non riconducibili alle precedenti categorie indicate per giorno, regione e fascia d'età. |\n",
    "| prima_dose | integer | Numero prime somministrazioni. |\n",
    "| seconda_dose | integer | Numero seconde somministrazioni. |\n",
    "| codice_NUTS1 | string | Classificazione europea delle unità territoriali NUTS: livello NUTS 1. |\n",
    "| codice_NUTS2 | string | Classificazione europea delle unità territoriali NUTS: livello NUTS 2. |\n",
    "| codice_regione_ISTAT | integer | Codice ISTAT della Regione. |\n",
    "| nome_regione | string | Denominazione standard dell'area (dove necessario denominazione bilingue). |\n",
    "\n",
    "\n",
    "*   **somministrazioni-vaccini-summary-latest**: dati sul totale delle somministrazioni giornaliere per regioni e categorie di appartenenza dei soggetti vaccinati.\n",
    "\n",
    "| Campo | Tipo di dati | Descrizione |\n",
    "| --- | --- | --- |\n",
    "| index | integer | Codice identificativo del record. |\n",
    "| area | string | Sigla della regione in cui è avvenuta la somministrazione. |\n",
    "| data_somministrazione | datetime | Giorno in cui è avvenuta la somministrazione. |\n",
    "| totale | integer | Numero totale di dosi di vaccino somministrate per giorno e regione. |\n",
    "| sesso_maschile | integer | Totale dei soggetti di sesso maschile a cui è stato somministrato il vaccino per giorno e regione. |\n",
    "| sesso_femminile | integer | Totale dei soggetti di sesso femminile a cui è stato somministrato il vaccino per giorno e regione. |\n",
    "| categoria_over80 | integer | Numero somministrazioni effettuate ai soggetti con età anagrafica maggiore o uguale a 80 anni, non appartenenti ad altre categorie prioritarie ma ricevono la somministrazione esclusivamente sul criterio dell'età anagrafica, indicate per giorno, regione. |\n",
    "| categoria_soggetti_fragili | integer | Numero di somministrazioni effettuate ai soggetti fragili e loro caregiver indicate per giorno, regione e fascia d'età. |\n",
    "| categoria_operatori_sanitari_sociosanitari | integer | Numero di somministrazioni effettuate agli operatori sanitari e sociosanitari indicate per giorno, regione e fascia d'età. |\n",
    "| categoria_personale_non_sanitario | integer | Numero di somministrazioni effettuate al personale non sanitario impiegato in strutture sanitarie e in attività lavorativa a rischio indicate per giorno, regione e fascia d'età. |\n",
    "| categoria_ospiti_rsa | integer | Numero di somministrazioni effettuate ai soggetti ospiti di comunità residenziali indicate per giorno, regione e fascia d'età. |\n",
    "| categoria_70_79 | integer | Numero somministrazioni effettuate ai soggetti con età anagrafica compresa tra 70 e 79 anni, non appartenenti ad altre categorie prioritarie ma ricevono la somministrazione esclusivamente sul criterio dell'età anagrafica, indicate per giorno, regione. |\n",
    "| categoria_60_69 | integer | Numero somministrazioni effettuate ai soggetti con età anagrafica compresa tra 60 e 69 anni, non appartenenti ad altre categorie prioritarie ma ricevono la somministrazione esclusivamente sul criterio dell'età anagrafica, indicate per giorno, regione. |\n",
    "| categoria_personale_scolastico | integer | Numero di somministrazioni effettuate al personale scolastico indicate per giorno, regione e fascia d'età. |\n",
    "| categoria_forze_armate | integer | Numero di somministrazioni effettuate al personale del comparto difesa e sicurezza indicate per giorno, regione e fascia d'età. |\n",
    "| categoria_altro | integer | Numero di somministrazioni effettuate ai soggetti non riconducibili alle precedenti categorie indicate per giorno, regione e fascia d'età. |\n",
    "| prima_dose | integer | Numero prime somministrazioni. |\n",
    "| seconda_dose | integer | Numero seconde somministrazioni. |\n",
    "| codice_NUTS1 | string | Classificazione europea delle unità territoriali NUTS: livello NUTS 1. |\n",
    "| codice_NUTS2 | string | Classificazione europea delle unità territoriali NUTS: livello NUTS 2. |\n",
    "| codice_regione_ISTAT | integer | Codice ISTAT della Regione. |\n",
    "| nome_regione | string | Denominazione standard dell'area (dove necessario denominazione bilingue). |\n",
    "\n",
    "\n",
    "*   **punti-somministrazione-latest**: punti di somministrazione per ciascuna Regione e Provincia Autonoma.\n",
    "\n",
    "| Campo | Tipo di dati | Descrizione |\n",
    "| --- | --- | --- |\n",
    "| area | string | Regione. |\n",
    "| denominazione_struttura | string | Presidio di somministrazione. |\n",
    "| tipologia | string | Tipologia del presidio di somministrazione: ospedaliero o territoriale. |\n",
    "| codice_NUTS1 | string | Classificazione europea delle unità territoriali NUTS: livello NUTS 1. |\n",
    "| codice_NUTS2 | string | Classificazione europea delle unità territoriali NUTS: livello NUTS 2. |\n",
    "| codice_regione_ISTAT | integer | Codice ISTAT della Regione. |\n",
    "| nome_regione | string | Denominazione standard dell'area (dove necessario denominazione bilingue). |\n",
    "\n",
    "\n",
    "*   **anagrafica-vaccini-summary-latest**: totali delle somministrazioni per fasce d'età.\n",
    "\n",
    "| Campo | Tipo di dati | Descrizione |\n",
    "| --- | --- | --- |\n",
    "| fascia_anagrafica | string | Fascia anagrafica. |\n",
    "| totale | integer | Totale vaccini somministrati. |\n",
    "| sesso_maschile | integer | Totale dei soggetti di sesso maschile a cui è stato somministrato il vaccino per giorno, regione e fascia d’età. |\n",
    "| sesso_femminile | integer | Totale dei soggetti di sesso femminile a cui è stato somministrato il vaccino per giorno, regione e fascia d’età. |\n",
    "| categoria_over80 | integer | Numero somministrazioni effettuate ai soggetti con età anagrafica maggiore o uguale a 80 anni, non appartenenti ad altre categorie prioritarie ma ricevono la somministrazione esclusivamente sul criterio dell'età anagrafica, indicate per giorno, regione. |\n",
    "| categoria_soggetti_fragili | integer | Numero di somministrazioni effettuate ai soggetti fragili e loro caregiver indicate per giorno, regione e fascia d'età. |\n",
    "| categoria_operatori_sanitari_sociosanitari | integer | Numero di somministrazioni effettuate agli operatori sanitari e sociosanitari indicate per giorno, regione e fascia d'età. |\n",
    "| categoria_personale_non_sanitario | integer | Numero di somministrazioni effettuate al personale non sanitario impiegato in strutture sanitarie e in attività lavorativa a rischio indicate per giorno, regione e fascia d'età. |\n",
    "| categoria_ospiti_rsa | integer | Numero di somministrazioni effettuate ai soggetti ospiti di comunità residenziali indicate per giorno, regione e fascia d'età. |\n",
    "| categoria_70_79 | integer | Numero somministrazioni effettuate ai soggetti con età anagrafica compresa tra 70 e 79 anni, non appartenenti ad altre categorie prioritarie ma ricevono la somministrazione esclusivamente sul criterio dell'età anagrafica, indicate per giorno, regione. |\n",
    "| categoria_60_69 | integer | Numero somministrazioni effettuate ai soggetti con età anagrafica compresa tra 60 e 69 anni, non appartenenti ad altre categorie prioritarie ma ricevono la somministrazione esclusivamente sul criterio dell'età anagrafica, indicate per giorno, regione. |\n",
    "| categoria_personale_scolastico | integer | Numero di somministrazioni effettuate al personale scolastico indicate per giorno, regione e fascia d'età. |\n",
    "| categoria_forze_armate | integer | Numero di somministrazioni effettuate al personale del comparto difesa e sicurezza indicate per giorno, regione e fascia d'età. |\n",
    "| categoria_altro | integer | Numero di somministrazioni effettuate ai soggetti non riconducibili alle precedenti categorie indicate per giorno, regione e fascia d'età. |\n",
    "| prima_dose | integer | Numero prime somministrazioni. |\n",
    "| seconda_dose | integer | Numero seconde somministrazioni. |\n",
    "\n"
   ]
  },
  {
   "cell_type": "markdown",
   "metadata": {},
   "source": [
    "## 2.Import librerie e dati"
   ]
  },
  {
   "cell_type": "code",
   "execution_count": 62,
   "metadata": {},
   "outputs": [],
   "source": [
    "import pandas as pd\n",
    "import matplotlib.pyplot as plt\n",
    "%matplotlib inline\n",
    "plt.rcParams['figure.figsize'] = (12,10)\n",
    "import seaborn as sns\n",
    "sns.set()"
   ]
  },
  {
   "cell_type": "code",
   "execution_count": 101,
   "metadata": {},
   "outputs": [],
   "source": [
    "df_consegne = pd.read_csv('https://raw.githubusercontent.com/italia/covid19-opendata-vaccini/master/dati/consegne-vaccini-latest.csv', parse_dates=['data_consegna'])"
   ]
  },
  {
   "cell_type": "code",
   "execution_count": 3,
   "metadata": {},
   "outputs": [],
   "source": [
    "df_vaccini_aree_summary = pd.read_csv('https://raw.githubusercontent.com/italia/covid19-opendata-vaccini/master/dati/vaccini-summary-latest.csv')"
   ]
  },
  {
   "cell_type": "code",
   "execution_count": 4,
   "metadata": {},
   "outputs": [],
   "source": [
    "df_somministrazioni = pd.read_csv('https://raw.githubusercontent.com/italia/covid19-opendata-vaccini/master/dati/somministrazioni-vaccini-latest.csv')"
   ]
  },
  {
   "cell_type": "code",
   "execution_count": 5,
   "metadata": {},
   "outputs": [],
   "source": [
    "df_punti_somministraz = pd.read_csv('https://raw.githubusercontent.com/italia/covid19-opendata-vaccini/master/dati/punti-somministrazione-tipologia.csv')"
   ]
  },
  {
   "cell_type": "code",
   "execution_count": 6,
   "metadata": {},
   "outputs": [],
   "source": [
    "df_vaccini_fasce_summary = pd.read_csv('https://raw.githubusercontent.com/italia/covid19-opendata-vaccini/master/dati/anagrafica-vaccini-summary-latest.csv')"
   ]
  },
  {
   "cell_type": "markdown",
   "metadata": {},
   "source": [
    "## 3.Analisi esplorativa dei dati"
   ]
  },
  {
   "cell_type": "markdown",
   "metadata": {},
   "source": [
    "### 3.1.Consegne"
   ]
  },
  {
   "cell_type": "code",
   "execution_count": 39,
   "metadata": {},
   "outputs": [
    {
     "data": {
      "text/plain": [
       "(1070, 8)"
      ]
     },
     "execution_count": 39,
     "metadata": {},
     "output_type": "execute_result"
    }
   ],
   "source": [
    "df_consegne.shape"
   ]
  },
  {
   "cell_type": "code",
   "execution_count": 115,
   "metadata": {
    "scrolled": false
   },
   "outputs": [
    {
     "data": {
      "text/html": [
       "<div>\n",
       "<style scoped>\n",
       "    .dataframe tbody tr th:only-of-type {\n",
       "        vertical-align: middle;\n",
       "    }\n",
       "\n",
       "    .dataframe tbody tr th {\n",
       "        vertical-align: top;\n",
       "    }\n",
       "\n",
       "    .dataframe thead th {\n",
       "        text-align: right;\n",
       "    }\n",
       "</style>\n",
       "<table border=\"1\" class=\"dataframe\">\n",
       "  <thead>\n",
       "    <tr style=\"text-align: right;\">\n",
       "      <th></th>\n",
       "      <th>area</th>\n",
       "      <th>fornitore</th>\n",
       "      <th>numero_dosi</th>\n",
       "      <th>data_consegna</th>\n",
       "      <th>codice_NUTS1</th>\n",
       "      <th>codice_NUTS2</th>\n",
       "      <th>codice_regione_ISTAT</th>\n",
       "      <th>nome_area</th>\n",
       "    </tr>\n",
       "  </thead>\n",
       "  <tbody>\n",
       "    <tr>\n",
       "      <th>1065</th>\n",
       "      <td>VEN</td>\n",
       "      <td>Vaxzevria (AstraZeneca)</td>\n",
       "      <td>5000</td>\n",
       "      <td>2021-04-28</td>\n",
       "      <td>ITH</td>\n",
       "      <td>ITH3</td>\n",
       "      <td>5</td>\n",
       "      <td>Veneto</td>\n",
       "    </tr>\n",
       "    <tr>\n",
       "      <th>1066</th>\n",
       "      <td>VEN</td>\n",
       "      <td>Janssen</td>\n",
       "      <td>12800</td>\n",
       "      <td>2021-05-01</td>\n",
       "      <td>ITH</td>\n",
       "      <td>ITH3</td>\n",
       "      <td>5</td>\n",
       "      <td>Veneto</td>\n",
       "    </tr>\n",
       "    <tr>\n",
       "      <th>1067</th>\n",
       "      <td>VEN</td>\n",
       "      <td>Moderna</td>\n",
       "      <td>20500</td>\n",
       "      <td>2021-05-01</td>\n",
       "      <td>ITH</td>\n",
       "      <td>ITH3</td>\n",
       "      <td>5</td>\n",
       "      <td>Veneto</td>\n",
       "    </tr>\n",
       "    <tr>\n",
       "      <th>1068</th>\n",
       "      <td>VEN</td>\n",
       "      <td>Vaxzevria (AstraZeneca)</td>\n",
       "      <td>151100</td>\n",
       "      <td>2021-05-01</td>\n",
       "      <td>ITH</td>\n",
       "      <td>ITH3</td>\n",
       "      <td>5</td>\n",
       "      <td>Veneto</td>\n",
       "    </tr>\n",
       "    <tr>\n",
       "      <th>1069</th>\n",
       "      <td>VEN</td>\n",
       "      <td>Pfizer/BioNTech</td>\n",
       "      <td>171990</td>\n",
       "      <td>2021-05-05</td>\n",
       "      <td>ITH</td>\n",
       "      <td>ITH3</td>\n",
       "      <td>5</td>\n",
       "      <td>Veneto</td>\n",
       "    </tr>\n",
       "  </tbody>\n",
       "</table>\n",
       "</div>"
      ],
      "text/plain": [
       "     area                fornitore  numero_dosi data_consegna codice_NUTS1  \\\n",
       "1065  VEN  Vaxzevria (AstraZeneca)         5000    2021-04-28          ITH   \n",
       "1066  VEN                  Janssen        12800    2021-05-01          ITH   \n",
       "1067  VEN                  Moderna        20500    2021-05-01          ITH   \n",
       "1068  VEN  Vaxzevria (AstraZeneca)       151100    2021-05-01          ITH   \n",
       "1069  VEN          Pfizer/BioNTech       171990    2021-05-05          ITH   \n",
       "\n",
       "     codice_NUTS2  codice_regione_ISTAT nome_area  \n",
       "1065         ITH3                     5    Veneto  \n",
       "1066         ITH3                     5    Veneto  \n",
       "1067         ITH3                     5    Veneto  \n",
       "1068         ITH3                     5    Veneto  \n",
       "1069         ITH3                     5    Veneto  "
      ]
     },
     "execution_count": 115,
     "metadata": {},
     "output_type": "execute_result"
    }
   ],
   "source": [
    "df_consegne.tail()"
   ]
  },
  {
   "cell_type": "code",
   "execution_count": 137,
   "metadata": {},
   "outputs": [
    {
     "data": {
      "text/plain": [
       "Index(['area', 'fornitore', 'numero_dosi', 'data_consegna', 'codice_NUTS1',\n",
       "       'codice_NUTS2', 'codice_regione_ISTAT', 'nome_area'],\n",
       "      dtype='object')"
      ]
     },
     "execution_count": 137,
     "metadata": {},
     "output_type": "execute_result"
    }
   ],
   "source": [
    "df_consegne.columns"
   ]
  },
  {
   "cell_type": "code",
   "execution_count": 140,
   "metadata": {},
   "outputs": [
    {
     "data": {
      "text/plain": [
       "26916650"
      ]
     },
     "execution_count": 140,
     "metadata": {},
     "output_type": "execute_result"
    }
   ],
   "source": [
    "tot_consegne = df_consegne.numero_dosi.sum()\n",
    "tot_consegne"
   ]
  },
  {
   "cell_type": "code",
   "execution_count": 154,
   "metadata": {
    "scrolled": false
   },
   "outputs": [
    {
     "name": "stdout",
     "output_type": "stream",
     "text": [
      "<class 'pandas.core.frame.DataFrame'>\n",
      "RangeIndex: 1070 entries, 0 to 1069\n",
      "Data columns (total 8 columns):\n",
      " #   Column                Non-Null Count  Dtype         \n",
      "---  ------                --------------  -----         \n",
      " 0   area                  1070 non-null   object        \n",
      " 1   fornitore             1070 non-null   object        \n",
      " 2   numero_dosi           1070 non-null   int64         \n",
      " 3   data_consegna         1070 non-null   datetime64[ns]\n",
      " 4   codice_NUTS1          1070 non-null   object        \n",
      " 5   codice_NUTS2          1070 non-null   object        \n",
      " 6   codice_regione_ISTAT  1070 non-null   int64         \n",
      " 7   nome_area             1070 non-null   object        \n",
      "dtypes: datetime64[ns](1), int64(2), object(5)\n",
      "memory usage: 67.0+ KB\n"
     ]
    }
   ],
   "source": [
    "df_consegne.info()"
   ]
  },
  {
   "cell_type": "code",
   "execution_count": 181,
   "metadata": {
    "scrolled": true
   },
   "outputs": [
    {
     "data": {
      "text/html": [
       "<div>\n",
       "<style scoped>\n",
       "    .dataframe tbody tr th:only-of-type {\n",
       "        vertical-align: middle;\n",
       "    }\n",
       "\n",
       "    .dataframe tbody tr th {\n",
       "        vertical-align: top;\n",
       "    }\n",
       "\n",
       "    .dataframe thead th {\n",
       "        text-align: right;\n",
       "    }\n",
       "</style>\n",
       "<table border=\"1\" class=\"dataframe\">\n",
       "  <thead>\n",
       "    <tr style=\"text-align: right;\">\n",
       "      <th></th>\n",
       "      <th>area</th>\n",
       "      <th>fornitore</th>\n",
       "      <th>numero_dosi</th>\n",
       "      <th>codice_NUTS1</th>\n",
       "      <th>codice_NUTS2</th>\n",
       "      <th>codice_regione_ISTAT</th>\n",
       "      <th>nome_area</th>\n",
       "    </tr>\n",
       "    <tr>\n",
       "      <th>data_consegna</th>\n",
       "      <th></th>\n",
       "      <th></th>\n",
       "      <th></th>\n",
       "      <th></th>\n",
       "      <th></th>\n",
       "      <th></th>\n",
       "      <th></th>\n",
       "    </tr>\n",
       "  </thead>\n",
       "  <tbody>\n",
       "    <tr>\n",
       "      <th>2020-12-27</th>\n",
       "      <td>ABR</td>\n",
       "      <td>Pfizer/BioNTech</td>\n",
       "      <td>135</td>\n",
       "      <td>ITF</td>\n",
       "      <td>ITF1</td>\n",
       "      <td>13</td>\n",
       "      <td>Abruzzo</td>\n",
       "    </tr>\n",
       "    <tr>\n",
       "      <th>2020-12-30</th>\n",
       "      <td>ABR</td>\n",
       "      <td>Pfizer/BioNTech</td>\n",
       "      <td>7800</td>\n",
       "      <td>ITF</td>\n",
       "      <td>ITF1</td>\n",
       "      <td>13</td>\n",
       "      <td>Abruzzo</td>\n",
       "    </tr>\n",
       "    <tr>\n",
       "      <th>2021-01-05</th>\n",
       "      <td>ABR</td>\n",
       "      <td>Pfizer/BioNTech</td>\n",
       "      <td>3900</td>\n",
       "      <td>ITF</td>\n",
       "      <td>ITF1</td>\n",
       "      <td>13</td>\n",
       "      <td>Abruzzo</td>\n",
       "    </tr>\n",
       "    <tr>\n",
       "      <th>2021-01-07</th>\n",
       "      <td>ABR</td>\n",
       "      <td>Pfizer/BioNTech</td>\n",
       "      <td>3900</td>\n",
       "      <td>ITF</td>\n",
       "      <td>ITF1</td>\n",
       "      <td>13</td>\n",
       "      <td>Abruzzo</td>\n",
       "    </tr>\n",
       "    <tr>\n",
       "      <th>2021-01-11</th>\n",
       "      <td>ABR</td>\n",
       "      <td>Pfizer/BioNTech</td>\n",
       "      <td>3900</td>\n",
       "      <td>ITF</td>\n",
       "      <td>ITF1</td>\n",
       "      <td>13</td>\n",
       "      <td>Abruzzo</td>\n",
       "    </tr>\n",
       "  </tbody>\n",
       "</table>\n",
       "</div>"
      ],
      "text/plain": [
       "              area        fornitore  numero_dosi codice_NUTS1 codice_NUTS2  \\\n",
       "data_consegna                                                                \n",
       "2020-12-27     ABR  Pfizer/BioNTech          135          ITF         ITF1   \n",
       "2020-12-30     ABR  Pfizer/BioNTech         7800          ITF         ITF1   \n",
       "2021-01-05     ABR  Pfizer/BioNTech         3900          ITF         ITF1   \n",
       "2021-01-07     ABR  Pfizer/BioNTech         3900          ITF         ITF1   \n",
       "2021-01-11     ABR  Pfizer/BioNTech         3900          ITF         ITF1   \n",
       "\n",
       "               codice_regione_ISTAT nome_area  \n",
       "data_consegna                                  \n",
       "2020-12-27                       13   Abruzzo  \n",
       "2020-12-30                       13   Abruzzo  \n",
       "2021-01-05                       13   Abruzzo  \n",
       "2021-01-07                       13   Abruzzo  \n",
       "2021-01-11                       13   Abruzzo  "
      ]
     },
     "execution_count": 181,
     "metadata": {},
     "output_type": "execute_result"
    }
   ],
   "source": [
    "df_consegne_t = df_consegne.set_index('data_consegna')\n",
    "df_consegne_t.head()"
   ]
  },
  {
   "cell_type": "code",
   "execution_count": 211,
   "metadata": {
    "scrolled": false
   },
   "outputs": [
    {
     "data": {
      "text/plain": [
       "<AxesSubplot:ylabel='fornitore'>"
      ]
     },
     "execution_count": 211,
     "metadata": {},
     "output_type": "execute_result"
    },
    {
     "data": {
      "image/png": "[encoded data removed]",
      "text/plain": [
       "<Figure size 864x720 with 1 Axes>"
      ]
     },
     "metadata": {},
     "output_type": "display_data"
    }
   ],
   "source": [
    "df_consegne.groupby('fornitore')['numero_dosi'].sum().plot(kind='barh')"
   ]
  },
  {
   "cell_type": "code",
   "execution_count": 198,
   "metadata": {
    "scrolled": false
   },
   "outputs": [
    {
     "data": {
      "text/plain": [
       "<AxesSubplot:xlabel='data_consegna'>"
      ]
     },
     "execution_count": 198,
     "metadata": {},
     "output_type": "execute_result"
    },
    {
     "data": {
      "image/png": "[encoded data removed]",
      "text/plain": [
       "<Figure size 864x720 with 1 Axes>"
      ]
     },
     "metadata": {},
     "output_type": "display_data"
    }
   ],
   "source": [
    "df_consegne_t.resample('W').sum()['numero_dosi'].plot(kind='bar')"
   ]
  },
  {
   "cell_type": "code",
   "execution_count": 231,
   "metadata": {
    "scrolled": false
   },
   "outputs": [
    {
     "data": {
      "text/plain": [
       "<matplotlib.legend.Legend at 0x1828131a2b0>"
      ]
     },
     "execution_count": 231,
     "metadata": {},
     "output_type": "execute_result"
    },
    {
     "data": {
      "image/png": "[encoded data removed]",
      "text/plain": [
       "<Figure size 864x720 with 1 Axes>"
      ]
     },
     "metadata": {},
     "output_type": "display_data"
    }
   ],
   "source": [
    "df_consegne_t.groupby('fornitore')['numero_dosi'].plot(linestyle='', marker='.')\n",
    "plt.legend()"
   ]
  },
  {
   "cell_type": "code",
   "execution_count": 232,
   "metadata": {},
   "outputs": [
    {
     "data": {
      "text/plain": [
       "<matplotlib.legend.Legend at 0x182837d6eb0>"
      ]
     },
     "execution_count": 232,
     "metadata": {},
     "output_type": "execute_result"
    },
    {
     "data": {
      "image/png": "[encoded data removed]",
      "text/plain": [
       "<Figure size 864x720 with 1 Axes>"
      ]
     },
     "metadata": {},
     "output_type": "display_data"
    }
   ],
   "source": [
    "df_consegne_t.groupby('fornitore')['numero_dosi'].plot(kind='bar')\n",
    "plt.legend()"
   ]
  },
  {
   "cell_type": "code",
   "execution_count": 155,
   "metadata": {
    "scrolled": false
   },
   "outputs": [
    {
     "data": {
      "text/html": [
       "<div>\n",
       "<style scoped>\n",
       "    .dataframe tbody tr th:only-of-type {\n",
       "        vertical-align: middle;\n",
       "    }\n",
       "\n",
       "    .dataframe tbody tr th {\n",
       "        vertical-align: top;\n",
       "    }\n",
       "\n",
       "    .dataframe thead th {\n",
       "        text-align: right;\n",
       "    }\n",
       "</style>\n",
       "<table border=\"1\" class=\"dataframe\">\n",
       "  <thead>\n",
       "    <tr style=\"text-align: right;\">\n",
       "      <th></th>\n",
       "      <th></th>\n",
       "      <th></th>\n",
       "      <th>area</th>\n",
       "      <th>numero_dosi</th>\n",
       "      <th>codice_NUTS1</th>\n",
       "      <th>codice_NUTS2</th>\n",
       "      <th>codice_regione_ISTAT</th>\n",
       "    </tr>\n",
       "    <tr>\n",
       "      <th>data_consegna</th>\n",
       "      <th>nome_area</th>\n",
       "      <th>fornitore</th>\n",
       "      <th></th>\n",
       "      <th></th>\n",
       "      <th></th>\n",
       "      <th></th>\n",
       "      <th></th>\n",
       "    </tr>\n",
       "  </thead>\n",
       "  <tbody>\n",
       "    <tr>\n",
       "      <th rowspan=\"5\" valign=\"top\">2020-12-27</th>\n",
       "      <th>Abruzzo</th>\n",
       "      <th>Pfizer/BioNTech</th>\n",
       "      <td>ABR</td>\n",
       "      <td>135</td>\n",
       "      <td>ITF</td>\n",
       "      <td>ITF1</td>\n",
       "      <td>13</td>\n",
       "    </tr>\n",
       "    <tr>\n",
       "      <th>Basilicata</th>\n",
       "      <th>Pfizer/BioNTech</th>\n",
       "      <td>BAS</td>\n",
       "      <td>105</td>\n",
       "      <td>ITF</td>\n",
       "      <td>ITF5</td>\n",
       "      <td>17</td>\n",
       "    </tr>\n",
       "    <tr>\n",
       "      <th>Calabria</th>\n",
       "      <th>Pfizer/BioNTech</th>\n",
       "      <td>CAL</td>\n",
       "      <td>280</td>\n",
       "      <td>ITF</td>\n",
       "      <td>ITF6</td>\n",
       "      <td>18</td>\n",
       "    </tr>\n",
       "    <tr>\n",
       "      <th>Campania</th>\n",
       "      <th>Pfizer/BioNTech</th>\n",
       "      <td>CAM</td>\n",
       "      <td>720</td>\n",
       "      <td>ITF</td>\n",
       "      <td>ITF3</td>\n",
       "      <td>15</td>\n",
       "    </tr>\n",
       "    <tr>\n",
       "      <th>Emilia-Romagna</th>\n",
       "      <th>Pfizer/BioNTech</th>\n",
       "      <td>EMR</td>\n",
       "      <td>975</td>\n",
       "      <td>ITH</td>\n",
       "      <td>ITH5</td>\n",
       "      <td>8</td>\n",
       "    </tr>\n",
       "    <tr>\n",
       "      <th>...</th>\n",
       "      <th>...</th>\n",
       "      <th>...</th>\n",
       "      <td>...</td>\n",
       "      <td>...</td>\n",
       "      <td>...</td>\n",
       "      <td>...</td>\n",
       "      <td>...</td>\n",
       "    </tr>\n",
       "    <tr>\n",
       "      <th rowspan=\"5\" valign=\"top\">2021-05-05</th>\n",
       "      <th>Sicilia</th>\n",
       "      <th>Pfizer/BioNTech</th>\n",
       "      <td>SIC</td>\n",
       "      <td>173160</td>\n",
       "      <td>ITG</td>\n",
       "      <td>ITG1</td>\n",
       "      <td>19</td>\n",
       "    </tr>\n",
       "    <tr>\n",
       "      <th>Toscana</th>\n",
       "      <th>Pfizer/BioNTech</th>\n",
       "      <td>TOS</td>\n",
       "      <td>124020</td>\n",
       "      <td>ITI</td>\n",
       "      <td>ITI1</td>\n",
       "      <td>9</td>\n",
       "    </tr>\n",
       "    <tr>\n",
       "      <th>Umbria</th>\n",
       "      <th>Pfizer/BioNTech</th>\n",
       "      <td>UMB</td>\n",
       "      <td>30420</td>\n",
       "      <td>ITI</td>\n",
       "      <td>ITI2</td>\n",
       "      <td>10</td>\n",
       "    </tr>\n",
       "    <tr>\n",
       "      <th>Valle d'Aosta / Vallée d'Aoste</th>\n",
       "      <th>Pfizer/BioNTech</th>\n",
       "      <td>VDA</td>\n",
       "      <td>4680</td>\n",
       "      <td>ITC</td>\n",
       "      <td>ITC2</td>\n",
       "      <td>2</td>\n",
       "    </tr>\n",
       "    <tr>\n",
       "      <th>Veneto</th>\n",
       "      <th>Pfizer/BioNTech</th>\n",
       "      <td>VEN</td>\n",
       "      <td>171990</td>\n",
       "      <td>ITH</td>\n",
       "      <td>ITH3</td>\n",
       "      <td>5</td>\n",
       "    </tr>\n",
       "  </tbody>\n",
       "</table>\n",
       "<p>1070 rows × 5 columns</p>\n",
       "</div>"
      ],
      "text/plain": [
       "                                                             area  \\\n",
       "data_consegna nome_area                      fornitore              \n",
       "2020-12-27    Abruzzo                        Pfizer/BioNTech  ABR   \n",
       "              Basilicata                     Pfizer/BioNTech  BAS   \n",
       "              Calabria                       Pfizer/BioNTech  CAL   \n",
       "              Campania                       Pfizer/BioNTech  CAM   \n",
       "              Emilia-Romagna                 Pfizer/BioNTech  EMR   \n",
       "...                                                           ...   \n",
       "2021-05-05    Sicilia                        Pfizer/BioNTech  SIC   \n",
       "              Toscana                        Pfizer/BioNTech  TOS   \n",
       "              Umbria                         Pfizer/BioNTech  UMB   \n",
       "              Valle d'Aosta / Vallée d'Aoste Pfizer/BioNTech  VDA   \n",
       "              Veneto                         Pfizer/BioNTech  VEN   \n",
       "\n",
       "                                                              numero_dosi  \\\n",
       "data_consegna nome_area                      fornitore                      \n",
       "2020-12-27    Abruzzo                        Pfizer/BioNTech          135   \n",
       "              Basilicata                     Pfizer/BioNTech          105   \n",
       "              Calabria                       Pfizer/BioNTech          280   \n",
       "              Campania                       Pfizer/BioNTech          720   \n",
       "              Emilia-Romagna                 Pfizer/BioNTech          975   \n",
       "...                                                                   ...   \n",
       "2021-05-05    Sicilia                        Pfizer/BioNTech       173160   \n",
       "              Toscana                        Pfizer/BioNTech       124020   \n",
       "              Umbria                         Pfizer/BioNTech        30420   \n",
       "              Valle d'Aosta / Vallée d'Aoste Pfizer/BioNTech         4680   \n",
       "              Veneto                         Pfizer/BioNTech       171990   \n",
       "\n",
       "                                                             codice_NUTS1  \\\n",
       "data_consegna nome_area                      fornitore                      \n",
       "2020-12-27    Abruzzo                        Pfizer/BioNTech          ITF   \n",
       "              Basilicata                     Pfizer/BioNTech          ITF   \n",
       "              Calabria                       Pfizer/BioNTech          ITF   \n",
       "              Campania                       Pfizer/BioNTech          ITF   \n",
       "              Emilia-Romagna                 Pfizer/BioNTech          ITH   \n",
       "...                                                                   ...   \n",
       "2021-05-05    Sicilia                        Pfizer/BioNTech          ITG   \n",
       "              Toscana                        Pfizer/BioNTech          ITI   \n",
       "              Umbria                         Pfizer/BioNTech          ITI   \n",
       "              Valle d'Aosta / Vallée d'Aoste Pfizer/BioNTech          ITC   \n",
       "              Veneto                         Pfizer/BioNTech          ITH   \n",
       "\n",
       "                                                             codice_NUTS2  \\\n",
       "data_consegna nome_area                      fornitore                      \n",
       "2020-12-27    Abruzzo                        Pfizer/BioNTech         ITF1   \n",
       "              Basilicata                     Pfizer/BioNTech         ITF5   \n",
       "              Calabria                       Pfizer/BioNTech         ITF6   \n",
       "              Campania                       Pfizer/BioNTech         ITF3   \n",
       "              Emilia-Romagna                 Pfizer/BioNTech         ITH5   \n",
       "...                                                                   ...   \n",
       "2021-05-05    Sicilia                        Pfizer/BioNTech         ITG1   \n",
       "              Toscana                        Pfizer/BioNTech         ITI1   \n",
       "              Umbria                         Pfizer/BioNTech         ITI2   \n",
       "              Valle d'Aosta / Vallée d'Aoste Pfizer/BioNTech         ITC2   \n",
       "              Veneto                         Pfizer/BioNTech         ITH3   \n",
       "\n",
       "                                                              codice_regione_ISTAT  \n",
       "data_consegna nome_area                      fornitore                              \n",
       "2020-12-27    Abruzzo                        Pfizer/BioNTech                    13  \n",
       "              Basilicata                     Pfizer/BioNTech                    17  \n",
       "              Calabria                       Pfizer/BioNTech                    18  \n",
       "              Campania                       Pfizer/BioNTech                    15  \n",
       "              Emilia-Romagna                 Pfizer/BioNTech                     8  \n",
       "...                                                                            ...  \n",
       "2021-05-05    Sicilia                        Pfizer/BioNTech                    19  \n",
       "              Toscana                        Pfizer/BioNTech                     9  \n",
       "              Umbria                         Pfizer/BioNTech                    10  \n",
       "              Valle d'Aosta / Vallée d'Aoste Pfizer/BioNTech                     2  \n",
       "              Veneto                         Pfizer/BioNTech                     5  \n",
       "\n",
       "[1070 rows x 5 columns]"
      ]
     },
     "execution_count": 155,
     "metadata": {},
     "output_type": "execute_result"
    }
   ],
   "source": [
    "df_consegne_group = df_consegne.groupby(by=['data_consegna','nome_area', 'fornitore']).last()\n",
    "df_consegne_group"
   ]
  },
  {
   "cell_type": "code",
   "execution_count": 157,
   "metadata": {},
   "outputs": [],
   "source": [
    "# dir(df_consegne_group)"
   ]
  },
  {
   "cell_type": "markdown",
   "metadata": {},
   "source": [
    " 'abs',\n",
    " 'add',\n",
    " 'add_prefix',\n",
    " 'add_suffix',\n",
    " 'agg',\n",
    " 'aggregate',\n",
    " 'align',\n",
    " 'all',\n",
    " 'any',\n",
    " 'append',\n",
    " 'apply',\n",
    " 'applymap',\n",
    " 'area',\n",
    " 'asfreq',\n",
    " 'asof',\n",
    " 'assign',\n",
    " 'astype',\n",
    " 'at',\n",
    " 'at_time',\n",
    " 'attrs',\n",
    " 'axes',\n",
    " 'backfill',\n",
    " 'between_time',\n",
    " 'bfill',\n",
    " 'bool',\n",
    " 'boxplot',\n",
    " 'clip',\n",
    " 'codice_NUTS1',\n",
    " 'codice_NUTS2',\n",
    " 'codice_regione_ISTAT',\n",
    " 'columns',\n",
    " 'combine',\n",
    " 'combine_first',\n",
    " 'compare',\n",
    " 'convert_dtypes',\n",
    " 'copy',\n",
    " 'corr',\n",
    " 'corrwith',\n",
    " 'count',\n",
    " 'cov',\n",
    " 'cummax',\n",
    " 'cummin',\n",
    " 'cumprod',\n",
    " 'cumsum',\n",
    " 'describe',\n",
    " 'diff',\n",
    " 'div',\n",
    " 'divide',\n",
    " 'dot',\n",
    " 'drop',\n",
    " 'drop_duplicates',\n",
    " 'droplevel',\n",
    " 'dropna',\n",
    " 'dtypes',\n",
    " 'duplicated',\n",
    " 'empty',\n",
    " 'eq',\n",
    " 'equals',\n",
    " 'eval',\n",
    " 'ewm',\n",
    " 'expanding',\n",
    " 'explode',\n",
    " 'ffill',\n",
    " 'fillna',\n",
    " 'filter',\n",
    " 'first',\n",
    " 'first_valid_index',\n",
    " 'flags',\n",
    " 'floordiv',\n",
    " 'from_dict',\n",
    " 'from_records',\n",
    " 'ge',\n",
    " 'get',\n",
    " 'groupby',\n",
    " 'gt',\n",
    " 'head',\n",
    " 'hist',\n",
    " 'iat',\n",
    " 'idxmax',\n",
    " 'idxmin',\n",
    " 'iloc',\n",
    " 'index',\n",
    " 'infer_objects',\n",
    " 'info',\n",
    " 'insert',\n",
    " 'interpolate',\n",
    " 'isin',\n",
    " 'isna',\n",
    " 'isnull',\n",
    " 'items',\n",
    " 'iteritems',\n",
    " 'iterrows',\n",
    " 'itertuples',\n",
    " 'join',\n",
    " 'keys',\n",
    " 'kurt',\n",
    " 'kurtosis',\n",
    " 'last',\n",
    " 'last_valid_index',\n",
    " 'le',\n",
    " 'loc',\n",
    " 'lookup',\n",
    " 'lt',\n",
    " 'mad',\n",
    " 'mask',\n",
    " 'max',\n",
    " 'mean',\n",
    " 'median',\n",
    " 'melt',\n",
    " 'memory_usage',\n",
    " 'merge',\n",
    " 'min',\n",
    " 'mod',\n",
    " 'mode',\n",
    " 'mul',\n",
    " 'multiply',\n",
    " 'ndim',\n",
    " 'ne',\n",
    " 'nlargest',\n",
    " 'notna',\n",
    " 'notnull',\n",
    " 'nsmallest',\n",
    " 'numero_dosi',\n",
    " 'nunique',\n",
    " 'pad',\n",
    " 'pct_change',\n",
    " 'pipe',\n",
    " 'pivot',\n",
    " 'pivot_table',\n",
    " 'plot',\n",
    " 'pop',\n",
    " 'pow',\n",
    " 'prod',\n",
    " 'product',\n",
    " 'quantile',\n",
    " 'query',\n",
    " 'radd',\n",
    " 'rank',\n",
    " 'rdiv',\n",
    " 'reindex',\n",
    " 'reindex_like',\n",
    " 'rename',\n",
    " 'rename_axis',\n",
    " 'reorder_levels',\n",
    " 'replace',\n",
    " 'resample',\n",
    " 'reset_index',\n",
    " 'rfloordiv',\n",
    " 'rmod',\n",
    " 'rmul',\n",
    " 'rolling',\n",
    " 'round',\n",
    " 'rpow',\n",
    " 'rsub',\n",
    " 'rtruediv',\n",
    " 'sample',\n",
    " 'select_dtypes',\n",
    " 'sem',\n",
    " 'set_axis',\n",
    " 'set_flags',\n",
    " 'set_index',\n",
    " 'shape',\n",
    " 'shift',\n",
    " 'size',\n",
    " 'skew',\n",
    " 'slice_shift',\n",
    " 'sort_index',\n",
    " 'sort_values',\n",
    " 'squeeze',\n",
    " 'stack',\n",
    " 'std',\n",
    " 'style',\n",
    " 'sub',\n",
    " 'subtract',\n",
    " 'sum',\n",
    " 'swapaxes',\n",
    " 'swaplevel',\n",
    " 'tail',\n",
    " 'take',\n",
    " 'to_clipboard',\n",
    " 'to_csv',\n",
    " 'to_dict',\n",
    " 'to_excel',\n",
    " 'to_feather',\n",
    " 'to_gbq',\n",
    " 'to_hdf',\n",
    " 'to_html',\n",
    " 'to_json',\n",
    " 'to_latex',\n",
    " 'to_markdown',\n",
    " 'to_numpy',\n",
    " 'to_parquet',\n",
    " 'to_period',\n",
    " 'to_pickle',\n",
    " 'to_records',\n",
    " 'to_sql',\n",
    " 'to_stata',\n",
    " 'to_string',\n",
    " 'to_timestamp',\n",
    " 'to_xarray',\n",
    " 'transform',\n",
    " 'transpose',\n",
    " 'truediv',\n",
    " 'truncate',\n",
    " 'tz_convert',\n",
    " 'tz_localize',\n",
    " 'unstack',\n",
    " 'update',\n",
    " 'value_counts',\n",
    " 'values',\n",
    " 'var',\n",
    " 'where',\n",
    " 'xs'"
   ]
  },
  {
   "cell_type": "code",
   "execution_count": 180,
   "metadata": {
    "scrolled": false
   },
   "outputs": [
    {
     "data": {
      "text/plain": [
       "<AxesSubplot:xlabel='nome_area'>"
      ]
     },
     "execution_count": 180,
     "metadata": {},
     "output_type": "execute_result"
    },
    {
     "data": {
      "image/png": "[encoded data removed]",
      "text/plain": [
       "<Figure size 864x720 with 1 Axes>"
      ]
     },
     "metadata": {},
     "output_type": "display_data"
    }
   ],
   "source": [
    "df_consegne.groupby('nome_area').sum()['numero_dosi'].sort_values(ascending=False).plot(kind='bar')"
   ]
  },
  {
   "cell_type": "code",
   "execution_count": null,
   "metadata": {},
   "outputs": [],
   "source": []
  }
 ],
 "metadata": {
  "kernelspec": {
   "display_name": "Python 3",
   "language": "python",
   "name": "python3"
  },
  "language_info": {
   "codemirror_mode": {
    "name": "ipython",
    "version": 3
   },
   "file_extension": ".py",
   "mimetype": "text/x-python",
   "name": "python",
   "nbconvert_exporter": "python",
   "pygments_lexer": "ipython3",
   "version": "3.8.5"
  }
 },
 "nbformat": 4,
 "nbformat_minor": 4
}
