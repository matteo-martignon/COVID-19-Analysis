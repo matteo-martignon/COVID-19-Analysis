{
 "cells": [
  {
   "cell_type": "code",
   "execution_count": 1,
   "metadata": {},
   "outputs": [],
   "source": [
    "import pandas as pd\n",
    "import matplotlib.pyplot as plt\n",
    "%matplotlib inline\n",
    "plt.rcParams['figure.figsize'] = (12,10)\n",
    "\n",
    "import geopandas as gpd"
   ]
  },
  {
   "cell_type": "markdown",
   "metadata": {},
   "source": [
    "### Andamento nazionale\n",
    "\n",
    "**Directory:**  dati-andamento-nazionale<br>\n",
    "**Struttura file giornaliero:** dpc-covid19-ita-andamento-nazionale-yyyymmdd.csv (dpc-covid19-ita-andamento-nazionale-20200224.csv)<br>\n",
    "**File complessivo:** dpc-covid19-ita-andamento-nazionale.csv<br>\n",
    "**File ultimi dati (latest):** dpc-covid19-ita-regioni-latest.csv\n",
    "\n",
    "\n",
    "| Nome campo                  | Descrizione                       | Description                            | Formato                       | Esempio             |\n",
    "|-----------------------------|-----------------------------------|----------------------------------------|-------------------------------|---------------------|\n",
    "| **data**                        | Data dell'informazione            | Date of notification                   | YYYY-MM-DD HH:MM:SS (ISO 8601) Ora italiana | 2020-03-05 12:15:45 |\n",
    "| **stato**                       | Stato di riferimento              | Country of reference                   | XYZ (ISO 3166-1 alpha-3)      | ITA                 |\n",
    "| **ricoverati_con_sintomi**      | Ricoverati con sintomi            | Hospitalised patients with symptoms    | Numero                        | 3                   |\n",
    "| **terapia_intensiva**           | Ricoverati in terapia intensiva   | Intensive Care                         | Numero                        | 3                   |\n",
    "| **totale_ospedalizzati**        | Totale ospedalizzati              | Total hospitalised patients            | Numero                        | 3                   |\n",
    "| **isolamento_domiciliare**      | Persone in isolamento domiciliare | Home confinement                       | Numero                        | 3                   |\n",
    "| **totale_positivi** | Totale attualmente positivi (ospedalizzati + isolamento domiciliare)      | Total amount of current positive cases (Hospitalised patients + Home confinement)  | Numero                        | 3                   |\n",
    "| **variazione_totale_positivi**  | Variazione del totale positivi (totale_positivi giorno corrente - totale_positivi giorno precedente)       | News amount of current positive cases (totale_positivi current day - totale_positivi previous day)  | Numero                        | 3                   |\n",
    "| **nuovi_positivi**  | Nuovi attualmente positivi (totale_casi giorno corrente - totale_casi giorno precedente)       | News amount of current positive cases (totale_casi current day - totale_casi previous day)  | Numero                        | 3                   |\n",
    "| **dimessi_guariti**             | Persone dimesse guarite           | Recovered                              | Numero                        | 3                   |\n",
    "| **deceduti**                    | Persone decedute                  | Death                                  | Numero                        | 3                   |\n",
    "| **casi_da_sospetto_diagnostico**                    | Casi positivi al tampone emersi da attività **Non più popolato** clinica                  | Positive cases emerged from clinical activity **No longer populated**                                 | Numero                        | 3                   |\n",
    "| **casi_da_screening**                    | Casi positivi emersi da indagini e test, pianificati a livello nazionale o regionale **Non più popolato**                  | Positive cases emerging from surveys and tests, planned at national or regional level  **No longer populated**                                | Numero                        | 3                   |\n",
    "| **totale_casi**                 | Totale casi positivi              | Total amount of positive cases         | Numero                        | 3                   |\n",
    "| **tamponi**                     | Totale tamponi (processati con test molecolari)                    | Tests performed                        | Numero                        | 3                   |\n",
    "| **casi_testati**                     | Totale dei soggetti sottoposti al test                    | Total number of people tested (processed with molecular tests)                      | Numero                        | 3                   |\n",
    "| **note**                     | Note                   | Notes                       | Testo                        | Lorem ipsum...                   |\n",
    "| **ingressi_terapia_intensiva**                     | Ingressi giornalieri in terapia intensiva | Daily admissions to intensive care                        | Numero                        | 3                  |\n",
    "| **note_test**                     | Note sui test effettuati                  | Notes on the tests carried out                       | Testo                        | Lorem ipsum...                   |\n",
    "| **note_casi**                     | Note sui casi testati                  | Notes on the cases tested                       | Testo                        | Lorem ipsum...                   |\n",
    "\n",
    "\n",
    "*Viene messo a disposizione un file JSON complessivo di tutte le date nella cartella \"dati-json\": dpc-covid19-ita-andamento-nazionale.json* e rispettivo file ultimi dati (latest) dpc-covid19-ita-andamento-nazionale-latest.json"
   ]
  },
  {
   "cell_type": "code",
   "execution_count": 2,
   "metadata": {},
   "outputs": [],
   "source": [
    "df_contagi_nazionali = pd.read_csv('https://raw.githubusercontent.com/pcm-dpc/COVID-19/master/dati-andamento-nazionale/dpc-covid19-ita-andamento-nazionale.csv')"
   ]
  },
  {
   "cell_type": "markdown",
   "metadata": {},
   "source": [
    "### Dati per Regione\n",
    "\n",
    "**Directory:**  dati-regioni<br>\n",
    "**Struttura file giornaliero:** dpc-covid19-ita-regioni-yyyymmdd.csv (dpc-covid19-ita-regioni-20200224.csv)<br>\n",
    "**File complessivo:** dpc-covid19-ita-regioni.csv<br>\n",
    "**File ultimi dati (latest):** dpc-covid19-ita-regioni-latest.csv\n",
    "\n",
    "| Nome campo                  | Descrizione                       | Description                            | Formato                       | Esempio             |\n",
    "|-----------------------------|-----------------------------------|----------------------------------------|-------------------------------|---------------------|\n",
    "| **data**                        | Data dell'informazione            | Date of notification                   | YYYY-MM-DDTHH:MM:SS (ISO 8601) Ora italiana | 2020-03-05T12:15:45 |\n",
    "| **stato**                       | Stato di riferimento              | Country of reference                   | XYZ (ISO 3166-1 alpha-3)      | ITA                 |\n",
    "| **codice_regione**              | Codice della Regione (ISTAT 2019) | Code of the Region (ISTAT 2019)        | Numero                        | 13                  |\n",
    "| **denominazione_regione**       | Denominazione della Regione       | Name of the Region                     | Testo                         | Abruzzo             |\n",
    "| **lat**                         | Latitudine                        | Latitude                               | WGS84                         | 42.6589177          |\n",
    "| **long**                        | Longitudine                       | Longitude                              | WGS84                         | 13.70439971         |\n",
    "| **ricoverati_con_sintomi**      | Ricoverati con sintomi            | Hospitalised patients with symptoms    | Numero                        | 3                   |\n",
    "| **terapia_intensiva**           | Ricoverati in terapia intensiva   | Intensive Care                         | Numero                        | 3                   |\n",
    "| **totale_ospedalizzati**        | Totale ospedalizzati              | Total hospitalised patients            | Numero                        | 3                   |\n",
    "| **isolamento_domiciliare**      | Persone in isolamento domiciliare | Home confinement                       | Numero                        | 3                   |\n",
    "| **totale_positivi** | Totale attualmente positivi (ospedalizzati + isolamento domiciliare)      | Total amount of current positive cases (Hospitalised patients + Home confinement)  | Numero                        | 3                   |\n",
    "| **variazione_totale_positivi**  | Variazione del totale positivi (totale_positivi giorno corrente - totale_positivi giorno precedente)       | News amount of current positive cases (totale_positivi current day - totale_positivi previous day)  | Numero                        | 3                   |\n",
    "| **nuovi_positivi**  | Nuovi attualmente positivi (totale_casi giorno corrente - totale_casi giorno precedente)       | News amount of current positive cases (totale_casi current day - totale_casi previous day)  | Numero                        | 3                   |\n",
    "| **dimessi_guariti**             | Persone dimesse guarite           | Recovered                              | Numero                        | 3                   |\n",
    "| **deceduti**                    | Persone decedute                  | Death                                  | Numero                        | 3                   |\n",
    "| **casi_da_sospetto_diagnostico**                    | Casi positivi al tampone emersi da attività clinica **Non più popolato**                  | Positive cases emerged from clinical activity **No longer populated**                                 | Numero                        | 3                   |\n",
    "| **casi_da_screening**                    | Casi positivi emersi da indagini e test, pianificati a livello nazionale o regionale **Non più popolato**                  | Positive cases emerging from surveys and tests, planned at national or regional level  **No longer populated**                                | Numero                        | 3                   |\n",
    "| **totale_casi**                 | Totale casi positivi              | Total amount of positive cases         | Numero                        | 3                   |\n",
    "| **tamponi**                     | Totale tamponi (processati con test molecolari)                   | Tests performed   (processed with molecular tests)                     | Numero                        | 3                   |\n",
    "| **casi_testati**                     | Totale dei soggetti sottoposti al test                    | Total number of people tested                        | Numero                        | 3                   |\n",
    "| **note**                     | Note                   | Notes                       | Testo                        | Lorem ipsum...                   |\n",
    "| **ingressi_terapia_intensiva**                     | Ingressi giornalieri in terapia intensiva | Daily admissions to intensive care                        | Numero                        | 3                  |\n",
    "| **note_test**                     | Note sui test effettuati                  | Notes on the tests carried out                       | Testo                        | Lorem ipsum...                   |\n",
    "| **note_casi**                     | Note sui casi testati                  | Notes on the cases tested                       | Testo                        | Lorem ipsum...                   |\n",
    "\n",
    "\n",
    "*Le Province autonome di Trento e Bolzano sono indicate in \"denominazione regione\" e con il codice 04 del Trentino Alto Adige.*<br>\n",
    "*Viene messo a disposizione un file JSON complessivo di tutte le date nella cartella \"dati-json\": dpc-covid19-ita-regioni.json* e rispettivo file ultimi dati (latest) dpc-covid19-ita-regioni-latest.json"
   ]
  },
  {
   "cell_type": "code",
   "execution_count": 3,
   "metadata": {},
   "outputs": [],
   "source": [
    "df_contagi_regioni = pd.read_csv('https://raw.githubusercontent.com/pcm-dpc/COVID-19/master/dati-regioni/dpc-covid19-ita-regioni.csv')"
   ]
  },
  {
   "cell_type": "markdown",
   "metadata": {},
   "source": [
    "### Dati per Provincia\n",
    "\n",
    "**Directory:**  dati-province<br>\n",
    "**Struttura file giornaliero:** dpc-covid19-ita-province-yyyymmdd.csv (dpc-covid19-ita-province-20200224.csv)<br>\n",
    "**File complessivo:** dpc-covid19-ita-province.csv<br>\n",
    "**File ultimi dati (latest):** dpc-covid19-ita-province-latest.csv\n",
    "\n",
    "| Nome campo              | Descrizione                         | Description                     | Formato            | Esempio              |\n",
    "|-------------------------|-------------------------------------|---------------------------------|--------------------|----------------------|\n",
    "| **data**                    | Data dell'informazione              | Date of notification            | YYYY-MM-DD HH:MM:SS (ISO 8601) Ora italiana           | 2020-03-05 12:15:45 |                   |\n",
    "| **stato**                   | Stato di riferimento                | Country of reference            | ISO 3166-1 alpha-3 | ITA                  |\n",
    "| **codice_regione**          | Codice della Regione (ISTAT 2019)   | Code of the Region (ISTAT 2019) | Numero             | 13                   |\n",
    "| **denominazione_regione**   | Denominazione della Regione         | Name of the Region              | Testo              | Abruzzo              |\n",
    "| **codice_provincia**        | Codice della Provincia (ISTAT 2019) | Code of the Province            | Numero             | 067                  |\n",
    "| **denominazione_provincia** | Denominazione della provincia       | Name of the Province            | Testo              | Teramo               |\n",
    "| **sigla_provincia**         | Sigla della Provincia               | Province abbreviation           | Testo              | TE                   |\n",
    "| **lat**                     | Latitudine                          | Latitude                        | WGS84              | 42.6589177           |\n",
    "| **long**                    | Longitudine                         | Longitude                       | WGS84              | 13.70439971          |\n",
    "| **totale_casi**             | Totale casi positivi                | Total amount of positive cases  | Numero             | 3                    |\n",
    "| **note**                     | Note in lingua italiana                   | Notes in italian language                       | Testo                        | Lorem ipsum...                   |\n",
    "\n",
    "*Le Province autonome di Trento e Bolzano sono indicate in \"denominazione regione\" e con il codice 04 del Trentino Alto Adige.*<br>\n",
    "*Ogni Regione ha due \"Province\" denominate \"Fuori Regione / Provincia Autonoma\", con il codice provincia da 879 a 899, utile ad indicare dati relativi a soggetti fuori Regione o Provincia Autonoma e \"In fase di definizione/aggiornamento\", con il codice provincia da 979 a 999, utile ad indicare i dati ancora non assegnati alle Province.*<br>\n",
    "*Viene messo a disposizione un file JSON complessivo di tutte le date nella cartella \"dati-json\": dpc-covid19-ita-province.json* e rispettivo file ultimi dati (latest) dpc-covid19-ita-province-latest.json"
   ]
  },
  {
   "cell_type": "code",
   "execution_count": 4,
   "metadata": {},
   "outputs": [],
   "source": [
    "df_contagi_provincia = pd.read_csv('https://raw.githubusercontent.com/pcm-dpc/COVID-19/master/dati-province/dpc-covid19-ita-province.csv')"
   ]
  },
  {
   "cell_type": "code",
   "execution_count": null,
   "metadata": {},
   "outputs": [],
   "source": []
  },
  {
   "cell_type": "code",
   "execution_count": 7,
   "metadata": {
    "scrolled": false
   },
   "outputs": [],
   "source": [
    "df_italia = gpd.read_file('./data/aree/dpc-covid-19-ita-aree-nuove-g.shp')"
   ]
  },
  {
   "cell_type": "code",
   "execution_count": 8,
   "metadata": {},
   "outputs": [],
   "source": [
    "df_comuni = gpd.read_file('./data/aree/dpc-covid-19-ita-aree-comuni.shp')"
   ]
  },
  {
   "cell_type": "code",
   "execution_count": 9,
   "metadata": {},
   "outputs": [],
   "source": [
    "df_aree_comuni = gpd.read_file('https://raw.githubusercontent.com/pcm-dpc/COVID-19/master/aree/geojson/dpc-covid-19-ita-aree-comuni.json')"
   ]
  },
  {
   "cell_type": "code",
   "execution_count": 10,
   "metadata": {},
   "outputs": [
    {
     "data": {
      "text/plain": [
       "(276, 39)"
      ]
     },
     "execution_count": 10,
     "metadata": {},
     "output_type": "execute_result"
    }
   ],
   "source": [
    "df_comuni.shape"
   ]
  },
  {
   "cell_type": "code",
   "execution_count": 11,
   "metadata": {},
   "outputs": [
    {
     "data": {
      "text/plain": [
       "(264, 38)"
      ]
     },
     "execution_count": 11,
     "metadata": {},
     "output_type": "execute_result"
    }
   ],
   "source": [
    "df_aree_comuni.shape"
   ]
  },
  {
   "cell_type": "code",
   "execution_count": null,
   "metadata": {},
   "outputs": [],
   "source": []
  },
  {
   "cell_type": "code",
   "execution_count": null,
   "metadata": {},
   "outputs": [],
   "source": []
  },
  {
   "cell_type": "code",
   "execution_count": null,
   "metadata": {},
   "outputs": [],
   "source": []
  },
  {
   "cell_type": "code",
   "execution_count": null,
   "metadata": {},
   "outputs": [],
   "source": []
  },
  {
   "cell_type": "code",
   "execution_count": null,
   "metadata": {},
   "outputs": [],
   "source": []
  }
 ],
 "metadata": {
  "kernelspec": {
   "display_name": "Python 3",
   "language": "python",
   "name": "python3"
  },
  "language_info": {
   "codemirror_mode": {
    "name": "ipython",
    "version": 3
   },
   "file_extension": ".py",
   "mimetype": "text/x-python",
   "name": "python",
   "nbconvert_exporter": "python",
   "pygments_lexer": "ipython3",
   "version": "3.8.5"
  }
 },
 "nbformat": 4,
 "nbformat_minor": 4
}
